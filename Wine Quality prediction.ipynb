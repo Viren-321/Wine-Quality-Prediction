{
 "cells": [
  {
   "cell_type": "markdown",
   "id": "b87786f6",
   "metadata": {},
   "source": [
    "# Wine Quality project"
   ]
  },
  {
   "cell_type": "markdown",
   "id": "95c69fa3",
   "metadata": {},
   "source": [
    "# 1 Importing libraries"
   ]
  },
  {
   "cell_type": "code",
   "execution_count": 1,
   "id": "50562f73",
   "metadata": {},
   "outputs": [],
   "source": [
    "import numpy as np\n",
    "import pandas as pd\n",
    "import matplotlib.pyplot as plt\n",
    "import seaborn as sns\n",
    "from sklearn.metrics import accuracy_score\n",
    "from sklearn.metrics import mean_squared_error\n",
    "from sklearn.model_selection import cross_val_score\n",
    "from sklearn.metrics import confusion_matrix\n",
    "from collections import Counter\n",
    "from IPython.core.display import display, HTML\n",
    "sns.set_style('darkgrid')"
   ]
  },
  {
   "cell_type": "code",
   "execution_count": 2,
   "id": "454dc921",
   "metadata": {},
   "outputs": [
    {
     "data": {
      "text/html": [
       "<div>\n",
       "<style scoped>\n",
       "    .dataframe tbody tr th:only-of-type {\n",
       "        vertical-align: middle;\n",
       "    }\n",
       "\n",
       "    .dataframe tbody tr th {\n",
       "        vertical-align: top;\n",
       "    }\n",
       "\n",
       "    .dataframe thead th {\n",
       "        text-align: right;\n",
       "    }\n",
       "</style>\n",
       "<table border=\"1\" class=\"dataframe\">\n",
       "  <thead>\n",
       "    <tr style=\"text-align: right;\">\n",
       "      <th></th>\n",
       "      <th>fixed acidity</th>\n",
       "      <th>volatile acidity</th>\n",
       "      <th>citric acid</th>\n",
       "      <th>residual sugar</th>\n",
       "      <th>chlorides</th>\n",
       "      <th>free sulfur dioxide</th>\n",
       "      <th>total sulfur dioxide</th>\n",
       "      <th>density</th>\n",
       "      <th>pH</th>\n",
       "      <th>sulphates</th>\n",
       "      <th>alcohol</th>\n",
       "      <th>quality</th>\n",
       "    </tr>\n",
       "  </thead>\n",
       "  <tbody>\n",
       "    <tr>\n",
       "      <th>0</th>\n",
       "      <td>7.4</td>\n",
       "      <td>0.70</td>\n",
       "      <td>0.00</td>\n",
       "      <td>1.9</td>\n",
       "      <td>0.076</td>\n",
       "      <td>11.0</td>\n",
       "      <td>34.0</td>\n",
       "      <td>0.9978</td>\n",
       "      <td>3.51</td>\n",
       "      <td>0.56</td>\n",
       "      <td>9.4</td>\n",
       "      <td>5</td>\n",
       "    </tr>\n",
       "    <tr>\n",
       "      <th>1</th>\n",
       "      <td>7.8</td>\n",
       "      <td>0.88</td>\n",
       "      <td>0.00</td>\n",
       "      <td>2.6</td>\n",
       "      <td>0.098</td>\n",
       "      <td>25.0</td>\n",
       "      <td>67.0</td>\n",
       "      <td>0.9968</td>\n",
       "      <td>3.20</td>\n",
       "      <td>0.68</td>\n",
       "      <td>9.8</td>\n",
       "      <td>5</td>\n",
       "    </tr>\n",
       "    <tr>\n",
       "      <th>2</th>\n",
       "      <td>7.8</td>\n",
       "      <td>0.76</td>\n",
       "      <td>0.04</td>\n",
       "      <td>2.3</td>\n",
       "      <td>0.092</td>\n",
       "      <td>15.0</td>\n",
       "      <td>54.0</td>\n",
       "      <td>0.9970</td>\n",
       "      <td>3.26</td>\n",
       "      <td>0.65</td>\n",
       "      <td>9.8</td>\n",
       "      <td>5</td>\n",
       "    </tr>\n",
       "    <tr>\n",
       "      <th>3</th>\n",
       "      <td>11.2</td>\n",
       "      <td>0.28</td>\n",
       "      <td>0.56</td>\n",
       "      <td>1.9</td>\n",
       "      <td>0.075</td>\n",
       "      <td>17.0</td>\n",
       "      <td>60.0</td>\n",
       "      <td>0.9980</td>\n",
       "      <td>3.16</td>\n",
       "      <td>0.58</td>\n",
       "      <td>9.8</td>\n",
       "      <td>6</td>\n",
       "    </tr>\n",
       "    <tr>\n",
       "      <th>4</th>\n",
       "      <td>7.4</td>\n",
       "      <td>0.70</td>\n",
       "      <td>0.00</td>\n",
       "      <td>1.9</td>\n",
       "      <td>0.076</td>\n",
       "      <td>11.0</td>\n",
       "      <td>34.0</td>\n",
       "      <td>0.9978</td>\n",
       "      <td>3.51</td>\n",
       "      <td>0.56</td>\n",
       "      <td>9.4</td>\n",
       "      <td>5</td>\n",
       "    </tr>\n",
       "  </tbody>\n",
       "</table>\n",
       "</div>"
      ],
      "text/plain": [
       "   fixed acidity  volatile acidity  citric acid  residual sugar  chlorides  \\\n",
       "0            7.4              0.70         0.00             1.9      0.076   \n",
       "1            7.8              0.88         0.00             2.6      0.098   \n",
       "2            7.8              0.76         0.04             2.3      0.092   \n",
       "3           11.2              0.28         0.56             1.9      0.075   \n",
       "4            7.4              0.70         0.00             1.9      0.076   \n",
       "\n",
       "   free sulfur dioxide  total sulfur dioxide  density    pH  sulphates  \\\n",
       "0                 11.0                  34.0   0.9978  3.51       0.56   \n",
       "1                 25.0                  67.0   0.9968  3.20       0.68   \n",
       "2                 15.0                  54.0   0.9970  3.26       0.65   \n",
       "3                 17.0                  60.0   0.9980  3.16       0.58   \n",
       "4                 11.0                  34.0   0.9978  3.51       0.56   \n",
       "\n",
       "   alcohol  quality  \n",
       "0      9.4        5  \n",
       "1      9.8        5  \n",
       "2      9.8        5  \n",
       "3      9.8        6  \n",
       "4      9.4        5  "
      ]
     },
     "execution_count": 2,
     "metadata": {},
     "output_type": "execute_result"
    }
   ],
   "source": [
    "df = pd.read_csv('QualityPrediction.csv')\n",
    "df.head()"
   ]
  },
  {
   "cell_type": "code",
   "execution_count": 3,
   "id": "a31184e1",
   "metadata": {},
   "outputs": [
    {
     "data": {
      "text/plain": [
       "(1599, 12)"
      ]
     },
     "execution_count": 3,
     "metadata": {},
     "output_type": "execute_result"
    }
   ],
   "source": [
    "df.shape"
   ]
  },
  {
   "cell_type": "code",
   "execution_count": 4,
   "id": "416429d4",
   "metadata": {},
   "outputs": [
    {
     "name": "stdout",
     "output_type": "stream",
     "text": [
      "<class 'pandas.core.frame.DataFrame'>\n",
      "RangeIndex: 1599 entries, 0 to 1598\n",
      "Data columns (total 12 columns):\n",
      " #   Column                Non-Null Count  Dtype  \n",
      "---  ------                --------------  -----  \n",
      " 0   fixed acidity         1599 non-null   float64\n",
      " 1   volatile acidity      1599 non-null   float64\n",
      " 2   citric acid           1599 non-null   float64\n",
      " 3   residual sugar        1599 non-null   float64\n",
      " 4   chlorides             1599 non-null   float64\n",
      " 5   free sulfur dioxide   1599 non-null   float64\n",
      " 6   total sulfur dioxide  1599 non-null   float64\n",
      " 7   density               1599 non-null   float64\n",
      " 8   pH                    1599 non-null   float64\n",
      " 9   sulphates             1599 non-null   float64\n",
      " 10  alcohol               1599 non-null   float64\n",
      " 11  quality               1599 non-null   int64  \n",
      "dtypes: float64(11), int64(1)\n",
      "memory usage: 150.0 KB\n"
     ]
    }
   ],
   "source": [
    "df.info()"
   ]
  },
  {
   "cell_type": "code",
   "execution_count": 5,
   "id": "bb601e8c",
   "metadata": {},
   "outputs": [
    {
     "data": {
      "text/plain": [
       "fixed acidity           0\n",
       "volatile acidity        0\n",
       "citric acid             0\n",
       "residual sugar          0\n",
       "chlorides               0\n",
       "free sulfur dioxide     0\n",
       "total sulfur dioxide    0\n",
       "density                 0\n",
       "pH                      0\n",
       "sulphates               0\n",
       "alcohol                 0\n",
       "quality                 0\n",
       "dtype: int64"
      ]
     },
     "execution_count": 5,
     "metadata": {},
     "output_type": "execute_result"
    }
   ],
   "source": [
    "df.isnull().sum()"
   ]
  },
  {
   "cell_type": "markdown",
   "id": "81b20b4c",
   "metadata": {},
   "source": [
    "# 2 Preprocessing Data for performing Machine learning algorithms"
   ]
  },
  {
   "cell_type": "code",
   "execution_count": 6,
   "id": "b6d8e508",
   "metadata": {},
   "outputs": [],
   "source": [
    "#Making binary classificaion for the response variable.\n",
    "#Dividing wine as good and bad by giving the limit for the quality\n",
    "bins = (2, 6.5, 8)\n",
    "labels = ['bad', 'good']\n",
    "df['quality'] = pd.cut(x = df['quality'], bins = bins, labels = labels)"
   ]
  },
  {
   "cell_type": "code",
   "execution_count": 7,
   "id": "759c2c68",
   "metadata": {},
   "outputs": [
    {
     "data": {
      "text/plain": [
       "bad     1382\n",
       "good     217\n",
       "Name: quality, dtype: int64"
      ]
     },
     "execution_count": 7,
     "metadata": {},
     "output_type": "execute_result"
    }
   ],
   "source": [
    "\n",
    "df['quality'].value_counts()"
   ]
  },
  {
   "cell_type": "code",
   "execution_count": 8,
   "id": "0cda6034",
   "metadata": {},
   "outputs": [
    {
     "data": {
      "text/html": [
       "<div>\n",
       "<style scoped>\n",
       "    .dataframe tbody tr th:only-of-type {\n",
       "        vertical-align: middle;\n",
       "    }\n",
       "\n",
       "    .dataframe tbody tr th {\n",
       "        vertical-align: top;\n",
       "    }\n",
       "\n",
       "    .dataframe thead th {\n",
       "        text-align: right;\n",
       "    }\n",
       "</style>\n",
       "<table border=\"1\" class=\"dataframe\">\n",
       "  <thead>\n",
       "    <tr style=\"text-align: right;\">\n",
       "      <th></th>\n",
       "      <th>fixed acidity</th>\n",
       "      <th>volatile acidity</th>\n",
       "      <th>citric acid</th>\n",
       "      <th>residual sugar</th>\n",
       "      <th>chlorides</th>\n",
       "      <th>free sulfur dioxide</th>\n",
       "      <th>total sulfur dioxide</th>\n",
       "      <th>density</th>\n",
       "      <th>pH</th>\n",
       "      <th>sulphates</th>\n",
       "      <th>alcohol</th>\n",
       "      <th>quality</th>\n",
       "    </tr>\n",
       "  </thead>\n",
       "  <tbody>\n",
       "    <tr>\n",
       "      <th>0</th>\n",
       "      <td>7.4</td>\n",
       "      <td>0.70</td>\n",
       "      <td>0.00</td>\n",
       "      <td>1.9</td>\n",
       "      <td>0.076</td>\n",
       "      <td>11.0</td>\n",
       "      <td>34.0</td>\n",
       "      <td>0.9978</td>\n",
       "      <td>3.51</td>\n",
       "      <td>0.56</td>\n",
       "      <td>9.4</td>\n",
       "      <td>0</td>\n",
       "    </tr>\n",
       "    <tr>\n",
       "      <th>1</th>\n",
       "      <td>7.8</td>\n",
       "      <td>0.88</td>\n",
       "      <td>0.00</td>\n",
       "      <td>2.6</td>\n",
       "      <td>0.098</td>\n",
       "      <td>25.0</td>\n",
       "      <td>67.0</td>\n",
       "      <td>0.9968</td>\n",
       "      <td>3.20</td>\n",
       "      <td>0.68</td>\n",
       "      <td>9.8</td>\n",
       "      <td>0</td>\n",
       "    </tr>\n",
       "    <tr>\n",
       "      <th>2</th>\n",
       "      <td>7.8</td>\n",
       "      <td>0.76</td>\n",
       "      <td>0.04</td>\n",
       "      <td>2.3</td>\n",
       "      <td>0.092</td>\n",
       "      <td>15.0</td>\n",
       "      <td>54.0</td>\n",
       "      <td>0.9970</td>\n",
       "      <td>3.26</td>\n",
       "      <td>0.65</td>\n",
       "      <td>9.8</td>\n",
       "      <td>0</td>\n",
       "    </tr>\n",
       "    <tr>\n",
       "      <th>3</th>\n",
       "      <td>11.2</td>\n",
       "      <td>0.28</td>\n",
       "      <td>0.56</td>\n",
       "      <td>1.9</td>\n",
       "      <td>0.075</td>\n",
       "      <td>17.0</td>\n",
       "      <td>60.0</td>\n",
       "      <td>0.9980</td>\n",
       "      <td>3.16</td>\n",
       "      <td>0.58</td>\n",
       "      <td>9.8</td>\n",
       "      <td>0</td>\n",
       "    </tr>\n",
       "    <tr>\n",
       "      <th>4</th>\n",
       "      <td>7.4</td>\n",
       "      <td>0.70</td>\n",
       "      <td>0.00</td>\n",
       "      <td>1.9</td>\n",
       "      <td>0.076</td>\n",
       "      <td>11.0</td>\n",
       "      <td>34.0</td>\n",
       "      <td>0.9978</td>\n",
       "      <td>3.51</td>\n",
       "      <td>0.56</td>\n",
       "      <td>9.4</td>\n",
       "      <td>0</td>\n",
       "    </tr>\n",
       "  </tbody>\n",
       "</table>\n",
       "</div>"
      ],
      "text/plain": [
       "   fixed acidity  volatile acidity  citric acid  residual sugar  chlorides  \\\n",
       "0            7.4              0.70         0.00             1.9      0.076   \n",
       "1            7.8              0.88         0.00             2.6      0.098   \n",
       "2            7.8              0.76         0.04             2.3      0.092   \n",
       "3           11.2              0.28         0.56             1.9      0.075   \n",
       "4            7.4              0.70         0.00             1.9      0.076   \n",
       "\n",
       "   free sulfur dioxide  total sulfur dioxide  density    pH  sulphates  \\\n",
       "0                 11.0                  34.0   0.9978  3.51       0.56   \n",
       "1                 25.0                  67.0   0.9968  3.20       0.68   \n",
       "2                 15.0                  54.0   0.9970  3.26       0.65   \n",
       "3                 17.0                  60.0   0.9980  3.16       0.58   \n",
       "4                 11.0                  34.0   0.9978  3.51       0.56   \n",
       "\n",
       "   alcohol  quality  \n",
       "0      9.4        0  \n",
       "1      9.8        0  \n",
       "2      9.8        0  \n",
       "3      9.8        0  \n",
       "4      9.4        0  "
      ]
     },
     "execution_count": 8,
     "metadata": {},
     "output_type": "execute_result"
    }
   ],
   "source": [
    "from sklearn.preprocessing import LabelEncoder\n",
    "labelencoder_y = LabelEncoder()\n",
    "df['quality'] = labelencoder_y.fit_transform(df['quality'])\n",
    "df.head()"
   ]
  },
  {
   "cell_type": "code",
   "execution_count": 9,
   "id": "37bc8e08",
   "metadata": {},
   "outputs": [
    {
     "data": {
      "image/png": "[encoded data removed]",
      "text/plain": [
       "<Figure size 720x576 with 2 Axes>"
      ]
     },
     "metadata": {},
     "output_type": "display_data"
    }
   ],
   "source": [
    "corr = df.corr()\n",
    "#Plot figsize\n",
    "fig, ax = plt.subplots(figsize=(10, 8))\n",
    "#Generate Heat Map, allow annotations and place floats in map\n",
    "sns.heatmap(corr, cmap='coolwarm', annot=True, fmt=\".2f\")\n",
    "#Apply xticks\n",
    "plt.xticks(range(len(corr.columns)), corr.columns);\n",
    "#Apply yticks\n",
    "plt.yticks(range(len(corr.columns)), corr.columns)\n",
    "#show plot\n",
    "plt.show()"
   ]
  },
  {
   "cell_type": "code",
   "execution_count": 10,
   "id": "894e53bc",
   "metadata": {},
   "outputs": [
    {
     "data": {
      "text/plain": [
       "0    1382\n",
       "1     217\n",
       "Name: quality, dtype: int64"
      ]
     },
     "execution_count": 10,
     "metadata": {},
     "output_type": "execute_result"
    }
   ],
   "source": [
    "df['quality'].value_counts()"
   ]
  },
  {
   "cell_type": "code",
   "execution_count": 11,
   "id": "2521258f",
   "metadata": {},
   "outputs": [],
   "source": [
    "X = df.drop('quality', axis = 1).values\n",
    "y = df['quality'].values.reshape(-1,1)"
   ]
  },
  {
   "cell_type": "code",
   "execution_count": 12,
   "id": "2e29b5b0",
   "metadata": {},
   "outputs": [],
   "source": [
    "# Splitting the dataset into the Training set and Test set\n",
    "from sklearn.model_selection import train_test_split\n",
    "X_train, X_test, y_train, y_test = train_test_split(X, y, test_size = 0.2, random_state = 42)"
   ]
  },
  {
   "cell_type": "code",
   "execution_count": 13,
   "id": "38f9b937",
   "metadata": {},
   "outputs": [
    {
     "name": "stdout",
     "output_type": "stream",
     "text": [
      "Shape of X_train:  (1279, 11)\n",
      "Shape of X_test:  (320, 11)\n",
      "Shape of y_train:  (1279, 1)\n",
      "Shape of y_test (320, 1)\n"
     ]
    }
   ],
   "source": [
    "print(\"Shape of X_train: \",X_train.shape)\n",
    "print(\"Shape of X_test: \", X_test.shape)\n",
    "print(\"Shape of y_train: \",y_train.shape)\n",
    "print(\"Shape of y_test\",y_test.shape)"
   ]
  },
  {
   "cell_type": "markdown",
   "id": "b2bcfb1c",
   "metadata": {},
   "source": [
    "# 3 Classification methods"
   ]
  },
  {
   "cell_type": "code",
   "execution_count": 14,
   "id": "bbb63460",
   "metadata": {},
   "outputs": [],
   "source": [
    "# Feature Scaling\n",
    "from sklearn.preprocessing import StandardScaler\n",
    "sc = StandardScaler()\n",
    "X_train_scaled = sc.fit_transform(X_train)\n",
    "X_test_scaled = sc.transform(X_test)"
   ]
  },
  {
   "cell_type": "markdown",
   "id": "303a8bc2",
   "metadata": {},
   "source": [
    "# Logistic regression"
   ]
  },
  {
   "cell_type": "code",
   "execution_count": 15,
   "id": "947c36f1",
   "metadata": {},
   "outputs": [
    {
     "data": {
      "text/plain": [
       "LogisticRegression(max_iter=1000, solver='liblinear')"
      ]
     },
     "execution_count": 15,
     "metadata": {},
     "output_type": "execute_result"
    }
   ],
   "source": [
    "# Fitting Logistic Regression to the Training set\n",
    "from sklearn.linear_model import LogisticRegression\n",
    "classifier_lr = LogisticRegression(C=1.0, fit_intercept=True, max_iter=1000, penalty = 'l2', solver='liblinear')\n",
    "classifier_lr.fit(X_train_scaled, y_train.ravel())"
   ]
  },
  {
   "cell_type": "code",
   "execution_count": 16,
   "id": "f0f9435d",
   "metadata": {},
   "outputs": [
    {
     "name": "stdout",
     "output_type": "stream",
     "text": [
      "CV:  0.885857529527559\n",
      "Training set:  0.8858483189992181\n",
      "Test set:  0.865625\n"
     ]
    }
   ],
   "source": [
    "# Predicting Cross Validation Score\n",
    "cv_lr = cross_val_score(estimator = classifier_lr, X = X_train_scaled, y = y_train.ravel(), cv = 10)\n",
    "print(\"CV: \", cv_lr.mean())\n",
    "\n",
    "y_pred_lr_train = classifier_lr.predict(X_train_scaled)\n",
    "accuracy_lr_train = accuracy_score(y_train, y_pred_lr_train)\n",
    "print(\"Training set: \", accuracy_lr_train)\n",
    "\n",
    "y_pred_lr_test = classifier_lr.predict(X_test_scaled)\n",
    "accuracy_lr_test = accuracy_score(y_test, y_pred_lr_test)\n",
    "print(\"Test set: \", accuracy_lr_test)"
   ]
  },
  {
   "cell_type": "code",
   "execution_count": 17,
   "id": "af731c8e",
   "metadata": {},
   "outputs": [
    {
     "data": {
      "text/plain": [
       "array([[264,   9],\n",
       "       [ 34,  13]], dtype=int64)"
      ]
     },
     "execution_count": 17,
     "metadata": {},
     "output_type": "execute_result"
    }
   ],
   "source": [
    "confusion_matrix(y_test, y_pred_lr_test)"
   ]
  },
  {
   "cell_type": "code",
   "execution_count": 18,
   "id": "16ea2a6b",
   "metadata": {},
   "outputs": [
    {
     "data": {
      "text/plain": [
       "<AxesSubplot:>"
      ]
     },
     "execution_count": 18,
     "metadata": {},
     "output_type": "execute_result"
    },
    {
     "data": {
      "image/png": "[encoded data removed]",
      "text/plain": [
       "<Figure size 720x576 with 2 Axes>"
      ]
     },
     "metadata": {},
     "output_type": "display_data"
    }
   ],
   "source": [
    "from sklearn.metrics import confusion_matrix\n",
    "mat = confusion_matrix(y_test, y_pred_lr_test)\n",
    "plt.figure(figsize=(10, 8))\n",
    "sns.heatmap(mat, annot=True)"
   ]
  },
  {
   "cell_type": "code",
   "execution_count": 19,
   "id": "daeb95d1",
   "metadata": {},
   "outputs": [],
   "source": [
    "tp_lr = confusion_matrix(y_test, y_pred_lr_test)[0,0]\n",
    "fp_lr = confusion_matrix(y_test, y_pred_lr_test)[0,1]\n",
    "tn_lr = confusion_matrix(y_test, y_pred_lr_test)[1,1]\n",
    "fn_lr = confusion_matrix(y_test, y_pred_lr_test)[1,0]"
   ]
  },
  {
   "cell_type": "markdown",
   "id": "c075b420",
   "metadata": {},
   "source": [
    "# K-Nearest Neighbors (K-NN) "
   ]
  },
  {
   "cell_type": "code",
   "execution_count": 20,
   "id": "114a3316",
   "metadata": {},
   "outputs": [
    {
     "data": {
      "text/plain": [
       "KNeighborsClassifier(leaf_size=1, n_neighbors=32, weights='distance')"
      ]
     },
     "execution_count": 20,
     "metadata": {},
     "output_type": "execute_result"
    }
   ],
   "source": [
    "# Fitting classifier to the Training set\n",
    "from sklearn.neighbors import KNeighborsClassifier\n",
    "classifier_knn = KNeighborsClassifier(leaf_size = 1, metric = 'minkowski', n_neighbors = 32, weights = 'distance')\n",
    "classifier_knn.fit(X_train_scaled, y_train.ravel())"
   ]
  },
  {
   "cell_type": "code",
   "execution_count": 21,
   "id": "ed906b37",
   "metadata": {},
   "outputs": [
    {
     "name": "stdout",
     "output_type": "stream",
     "text": [
      "CV:  0.9022699311023622\n",
      "Training set:  1.0\n",
      "Test set:  0.89375\n"
     ]
    }
   ],
   "source": [
    "# Predicting Cross Validation Score\n",
    "cv_knn = cross_val_score(estimator = classifier_knn, X = X_train_scaled, y = y_train.ravel(), cv = 10)\n",
    "print(\"CV: \", cv_knn.mean())\n",
    "\n",
    "y_pred_knn_train = classifier_knn.predict(X_train_scaled)\n",
    "accuracy_knn_train = accuracy_score(y_train, y_pred_knn_train)\n",
    "print(\"Training set: \", accuracy_knn_train)\n",
    "\n",
    "y_pred_knn_test = classifier_knn.predict(X_test_scaled)\n",
    "accuracy_knn_test = accuracy_score(y_test, y_pred_knn_test)\n",
    "print(\"Test set: \", accuracy_knn_test)"
   ]
  },
  {
   "cell_type": "code",
   "execution_count": 22,
   "id": "ae98cc95",
   "metadata": {},
   "outputs": [
    {
     "data": {
      "text/plain": [
       "array([[264,   9],\n",
       "       [ 25,  22]], dtype=int64)"
      ]
     },
     "execution_count": 22,
     "metadata": {},
     "output_type": "execute_result"
    }
   ],
   "source": [
    "confusion_matrix(y_test, y_pred_knn_test)"
   ]
  },
  {
   "cell_type": "code",
   "execution_count": 23,
   "id": "d40e4396",
   "metadata": {},
   "outputs": [
    {
     "data": {
      "text/plain": [
       "<AxesSubplot:>"
      ]
     },
     "execution_count": 23,
     "metadata": {},
     "output_type": "execute_result"
    },
    {
     "data": {
      "image/png": "[encoded data removed]",
      "text/plain": [
       "<Figure size 720x576 with 2 Axes>"
      ]
     },
     "metadata": {},
     "output_type": "display_data"
    }
   ],
   "source": [
    "from sklearn.metrics import confusion_matrix\n",
    "mat_1 = confusion_matrix(y_test, y_pred_knn_test)\n",
    "plt.figure(figsize=(10, 8))\n",
    "sns.heatmap(mat_1, annot=True)"
   ]
  },
  {
   "cell_type": "code",
   "execution_count": 24,
   "id": "a3ff0ac4",
   "metadata": {},
   "outputs": [],
   "source": [
    "tp_knn = confusion_matrix(y_test, y_pred_knn_test)[0,0]\n",
    "fp_knn = confusion_matrix(y_test, y_pred_knn_test)[0,1]\n",
    "tn_knn = confusion_matrix(y_test, y_pred_knn_test)[1,1]\n",
    "fn_knn = confusion_matrix(y_test, y_pred_knn_test)[1,0]"
   ]
  },
  {
   "cell_type": "markdown",
   "id": "4f4cb60d",
   "metadata": {},
   "source": [
    "# Support Vector Machine (SVM - Linear)"
   ]
  },
  {
   "cell_type": "code",
   "execution_count": 25,
   "id": "b04b0237",
   "metadata": {},
   "outputs": [
    {
     "data": {
      "text/plain": [
       "SVC(kernel='linear')"
      ]
     },
     "execution_count": 25,
     "metadata": {},
     "output_type": "execute_result"
    }
   ],
   "source": [
    "# Fitting classifier to the Training set\n",
    "from sklearn.svm import SVC\n",
    "classifier_svm_linear = SVC(kernel = 'linear')\n",
    "classifier_svm_linear.fit(X_train_scaled, y_train.ravel())"
   ]
  },
  {
   "cell_type": "code",
   "execution_count": 26,
   "id": "46e06508",
   "metadata": {},
   "outputs": [
    {
     "name": "stdout",
     "output_type": "stream",
     "text": [
      "CV:  0.8670829232283465\n",
      "Training set:  0.8670836591086787\n",
      "Test set:  0.853125\n"
     ]
    }
   ],
   "source": [
    "# Predicting Cross Validation Score\n",
    "cv_svm_linear = cross_val_score(estimator = classifier_svm_linear, X = X_train_scaled, y = y_train.ravel(), cv = 10)\n",
    "print(\"CV: \", cv_svm_linear.mean())\n",
    "\n",
    "y_pred_svm_linear_train = classifier_svm_linear.predict(X_train_scaled)\n",
    "accuracy_svm_linear_train = accuracy_score(y_train, y_pred_svm_linear_train)\n",
    "print(\"Training set: \", accuracy_svm_linear_train)\n",
    "\n",
    "y_pred_svm_linear_test = classifier_svm_linear.predict(X_test_scaled)\n",
    "accuracy_svm_linear_test = accuracy_score(y_test, y_pred_svm_linear_test)\n",
    "print(\"Test set: \", accuracy_svm_linear_test)"
   ]
  },
  {
   "cell_type": "code",
   "execution_count": 27,
   "id": "e3a953cf",
   "metadata": {},
   "outputs": [
    {
     "data": {
      "text/plain": [
       "array([[273,   0],\n",
       "       [ 47,   0]], dtype=int64)"
      ]
     },
     "execution_count": 27,
     "metadata": {},
     "output_type": "execute_result"
    }
   ],
   "source": [
    "confusion_matrix(y_test, y_pred_svm_linear_test)"
   ]
  },
  {
   "cell_type": "code",
   "execution_count": 28,
   "id": "aa929fd8",
   "metadata": {},
   "outputs": [
    {
     "data": {
      "text/plain": [
       "<AxesSubplot:>"
      ]
     },
     "execution_count": 28,
     "metadata": {},
     "output_type": "execute_result"
    },
    {
     "data": {
      "image/png": "[encoded data removed]",
      "text/plain": [
       "<Figure size 720x576 with 2 Axes>"
      ]
     },
     "metadata": {},
     "output_type": "display_data"
    }
   ],
   "source": [
    "from sklearn.metrics import confusion_matrix\n",
    "mat_3 = confusion_matrix(y_test, y_pred_svm_linear_test)\n",
    "plt.figure(figsize=(10, 8))\n",
    "sns.heatmap(mat_3, annot=True)"
   ]
  },
  {
   "cell_type": "code",
   "execution_count": 29,
   "id": "f0a63e77",
   "metadata": {},
   "outputs": [],
   "source": [
    "tp_svm_linear = confusion_matrix(y_test, y_pred_svm_linear_test)[0,0]\n",
    "fp_svm_linear = confusion_matrix(y_test, y_pred_svm_linear_test)[0,1]\n",
    "tn_svm_linear = confusion_matrix(y_test, y_pred_svm_linear_test)[1,1]\n",
    "fn_svm_linear = confusion_matrix(y_test, y_pred_svm_linear_test)[1,0]"
   ]
  },
  {
   "cell_type": "markdown",
   "id": "224be4f8",
   "metadata": {},
   "source": [
    "# Support Vector Machine (SVM - Kernel) "
   ]
  },
  {
   "cell_type": "code",
   "execution_count": 30,
   "id": "1b6baeb1",
   "metadata": {},
   "outputs": [
    {
     "data": {
      "text/plain": [
       "SVC(C=10)"
      ]
     },
     "execution_count": 30,
     "metadata": {},
     "output_type": "execute_result"
    }
   ],
   "source": [
    "# Fitting classifier to the Training set\n",
    "from sklearn.svm import SVC\n",
    "classifier_svm_kernel = SVC(kernel = 'rbf', C = 10, tol = 0.001, gamma = 'scale')\n",
    "classifier_svm_kernel.fit(X_train_scaled, y_train.ravel())"
   ]
  },
  {
   "cell_type": "code",
   "execution_count": 31,
   "id": "1dcf8304",
   "metadata": {},
   "outputs": [
    {
     "name": "stdout",
     "output_type": "stream",
     "text": [
      "CV:  0.8999261811023622\n",
      "Training set:  0.9421422986708365\n",
      "Test set:  0.89375\n"
     ]
    }
   ],
   "source": [
    "# Predicting Cross Validation Score\n",
    "cv_svm_kernel = cross_val_score(estimator = classifier_svm_kernel, X = X_train_scaled, y = y_train.ravel(), cv = 10)\n",
    "print(\"CV: \", cv_svm_kernel.mean())\n",
    "\n",
    "y_pred_svm_kernel_train = classifier_svm_kernel.predict(X_train_scaled)\n",
    "accuracy_svm_kernel_train = accuracy_score(y_train, y_pred_svm_kernel_train)\n",
    "print(\"Training set: \", accuracy_svm_kernel_train)\n",
    "\n",
    "y_pred_svm_kernel_test = classifier_svm_kernel.predict(X_test_scaled)\n",
    "accuracy_svm_kernel_test = accuracy_score(y_test, y_pred_svm_kernel_test)\n",
    "print(\"Test set: \", accuracy_svm_kernel_test)"
   ]
  },
  {
   "cell_type": "code",
   "execution_count": 32,
   "id": "e4b896f2",
   "metadata": {},
   "outputs": [
    {
     "data": {
      "text/plain": [
       "array([[261,  12],\n",
       "       [ 22,  25]], dtype=int64)"
      ]
     },
     "execution_count": 32,
     "metadata": {},
     "output_type": "execute_result"
    }
   ],
   "source": [
    "confusion_matrix(y_test, y_pred_svm_kernel_test)"
   ]
  },
  {
   "cell_type": "code",
   "execution_count": 33,
   "id": "24fcb09a",
   "metadata": {},
   "outputs": [
    {
     "data": {
      "text/plain": [
       "<AxesSubplot:>"
      ]
     },
     "execution_count": 33,
     "metadata": {},
     "output_type": "execute_result"
    },
    {
     "data": {
      "image/png": "[encoded data removed]",
      "text/plain": [
       "<Figure size 720x576 with 2 Axes>"
      ]
     },
     "metadata": {},
     "output_type": "display_data"
    }
   ],
   "source": [
    "from sklearn.metrics import confusion_matrix\n",
    "mat_4 = confusion_matrix(y_test, y_pred_svm_kernel_test)\n",
    "plt.figure(figsize=(10, 8))\n",
    "sns.heatmap(mat_4, annot=True)"
   ]
  },
  {
   "cell_type": "code",
   "execution_count": 34,
   "id": "9a1a1efb",
   "metadata": {},
   "outputs": [],
   "source": [
    "tp_svm_kernel = confusion_matrix(y_test, y_pred_svm_kernel_test)[0,0]\n",
    "fp_svm_kernel = confusion_matrix(y_test, y_pred_svm_kernel_test)[0,1]\n",
    "tn_svm_kernel = confusion_matrix(y_test, y_pred_svm_kernel_test)[1,1]\n",
    "fn_svm_kernel = confusion_matrix(y_test, y_pred_svm_kernel_test)[1,0]"
   ]
  },
  {
   "cell_type": "markdown",
   "id": "83e67c7c",
   "metadata": {},
   "source": [
    "# Naive Bayes"
   ]
  },
  {
   "cell_type": "code",
   "execution_count": 35,
   "id": "f2d27e42",
   "metadata": {},
   "outputs": [
    {
     "data": {
      "text/plain": [
       "GaussianNB()"
      ]
     },
     "execution_count": 35,
     "metadata": {},
     "output_type": "execute_result"
    }
   ],
   "source": [
    "# Fitting classifier to the Training set\n",
    "from sklearn.naive_bayes import GaussianNB\n",
    "classifier_nb = GaussianNB()\n",
    "classifier_nb.fit(X_train_scaled, y_train.ravel())"
   ]
  },
  {
   "cell_type": "code",
   "execution_count": 36,
   "id": "3b3e6713",
   "metadata": {},
   "outputs": [
    {
     "name": "stdout",
     "output_type": "stream",
     "text": [
      "CV:  0.8373462106299213\n",
      "Training set:  0.8389366692728695\n",
      "Test set:  0.846875\n"
     ]
    }
   ],
   "source": [
    "# Predicting Cross Validation Score\n",
    "cv_nb = cross_val_score(estimator = classifier_nb, X = X_train_scaled, y = y_train.ravel(), cv = 10)\n",
    "print(\"CV: \", cv_nb.mean())\n",
    "\n",
    "y_pred_nb_train = classifier_nb.predict(X_train_scaled)\n",
    "accuracy_nb_train = accuracy_score(y_train, y_pred_nb_train)\n",
    "print(\"Training set: \", accuracy_nb_train)\n",
    "\n",
    "y_pred_nb_test = classifier_nb.predict(X_test_scaled)\n",
    "accuracy_nb_test = accuracy_score(y_test, y_pred_nb_test)\n",
    "print(\"Test set: \", accuracy_nb_test)"
   ]
  },
  {
   "cell_type": "code",
   "execution_count": 37,
   "id": "5ba443d0",
   "metadata": {},
   "outputs": [
    {
     "data": {
      "text/plain": [
       "array([[234,  39],\n",
       "       [ 10,  37]], dtype=int64)"
      ]
     },
     "execution_count": 37,
     "metadata": {},
     "output_type": "execute_result"
    }
   ],
   "source": [
    "confusion_matrix(y_test, y_pred_nb_test)"
   ]
  },
  {
   "cell_type": "code",
   "execution_count": 38,
   "id": "57e83c24",
   "metadata": {},
   "outputs": [
    {
     "data": {
      "text/plain": [
       "<AxesSubplot:>"
      ]
     },
     "execution_count": 38,
     "metadata": {},
     "output_type": "execute_result"
    },
    {
     "data": {
      "image/png": "[encoded data removed]",
      "text/plain": [
       "<Figure size 720x576 with 2 Axes>"
      ]
     },
     "metadata": {},
     "output_type": "display_data"
    }
   ],
   "source": [
    "from sklearn.metrics import confusion_matrix\n",
    "mat_5 = confusion_matrix(y_test, y_pred_nb_test)\n",
    "plt.figure(figsize=(10, 8))\n",
    "sns.heatmap(mat_5, annot=True)"
   ]
  },
  {
   "cell_type": "code",
   "execution_count": 39,
   "id": "f16ccf34",
   "metadata": {},
   "outputs": [],
   "source": [
    "tp_nb = confusion_matrix(y_test, y_pred_nb_test)[0,0]\n",
    "fp_nb = confusion_matrix(y_test, y_pred_nb_test)[0,1]\n",
    "tn_nb = confusion_matrix(y_test, y_pred_nb_test)[1,1]\n",
    "fn_nb = confusion_matrix(y_test, y_pred_nb_test)[1,0]"
   ]
  },
  {
   "cell_type": "markdown",
   "id": "89e7eb0c",
   "metadata": {},
   "source": [
    "# Decision tree classification"
   ]
  },
  {
   "cell_type": "code",
   "execution_count": 40,
   "id": "021fe04c",
   "metadata": {},
   "outputs": [
    {
     "data": {
      "text/plain": [
       "DecisionTreeClassifier(max_features=6, max_leaf_nodes=400, random_state=33)"
      ]
     },
     "execution_count": 40,
     "metadata": {},
     "output_type": "execute_result"
    }
   ],
   "source": [
    "# Fitting classifier to the Training set\n",
    "from sklearn.tree import DecisionTreeClassifier\n",
    "classifier_dt = DecisionTreeClassifier(criterion = 'gini', max_features=6, max_leaf_nodes=400, random_state = 33)\n",
    "classifier_dt.fit(X_train_scaled, y_train.ravel())"
   ]
  },
  {
   "cell_type": "code",
   "execution_count": 41,
   "id": "d3d9cac5",
   "metadata": {},
   "outputs": [
    {
     "name": "stdout",
     "output_type": "stream",
     "text": [
      "CV:  0.8960014763779528\n",
      "Training set:  1.0\n",
      "Test set:  0.878125\n"
     ]
    }
   ],
   "source": [
    "# Predicting Cross Validation Score\n",
    "cv_dt = cross_val_score(estimator = classifier_dt, X = X_train_scaled, y = y_train.ravel(), cv = 10)\n",
    "print(\"CV: \", cv_dt.mean())\n",
    "\n",
    "y_pred_dt_train = classifier_dt.predict(X_train_scaled)\n",
    "accuracy_dt_train = accuracy_score(y_train, y_pred_dt_train)\n",
    "print(\"Training set: \", accuracy_dt_train)\n",
    "\n",
    "y_pred_dt_test = classifier_dt.predict(X_test_scaled)\n",
    "accuracy_dt_test = accuracy_score(y_test, y_pred_dt_test)\n",
    "print(\"Test set: \", accuracy_dt_test)"
   ]
  },
  {
   "cell_type": "code",
   "execution_count": 42,
   "id": "5bb91a46",
   "metadata": {},
   "outputs": [
    {
     "data": {
      "text/plain": [
       "array([[252,  21],\n",
       "       [ 18,  29]], dtype=int64)"
      ]
     },
     "execution_count": 42,
     "metadata": {},
     "output_type": "execute_result"
    }
   ],
   "source": [
    "confusion_matrix(y_test, y_pred_dt_test)"
   ]
  },
  {
   "cell_type": "code",
   "execution_count": 43,
   "id": "1598e2f4",
   "metadata": {},
   "outputs": [
    {
     "data": {
      "text/plain": [
       "<AxesSubplot:>"
      ]
     },
     "execution_count": 43,
     "metadata": {},
     "output_type": "execute_result"
    },
    {
     "data": {
      "image/png": "[encoded data removed]",
      "text/plain": [
       "<Figure size 720x576 with 2 Axes>"
      ]
     },
     "metadata": {},
     "output_type": "display_data"
    }
   ],
   "source": [
    "from sklearn.metrics import confusion_matrix\n",
    "mat_6 = confusion_matrix(y_test, y_pred_dt_test)\n",
    "plt.figure(figsize=(10, 8))\n",
    "sns.heatmap(mat_6, annot=True)"
   ]
  },
  {
   "cell_type": "code",
   "execution_count": 44,
   "id": "c0499141",
   "metadata": {},
   "outputs": [],
   "source": [
    "tp_dt = confusion_matrix(y_test, y_pred_dt_test)[0,0]\n",
    "fp_dt = confusion_matrix(y_test, y_pred_dt_test)[0,1]\n",
    "tn_dt = confusion_matrix(y_test, y_pred_dt_test)[1,1]\n",
    "fn_dt = confusion_matrix(y_test, y_pred_dt_test)[1,0]"
   ]
  },
  {
   "cell_type": "markdown",
   "id": "a2acb4d8",
   "metadata": {},
   "source": [
    "# Random forest classification"
   ]
  },
  {
   "cell_type": "code",
   "execution_count": 45,
   "id": "708929da",
   "metadata": {},
   "outputs": [
    {
     "data": {
      "text/plain": [
       "RandomForestClassifier(criterion='entropy', max_features=4, n_estimators=800,\n",
       "                       random_state=33)"
      ]
     },
     "execution_count": 45,
     "metadata": {},
     "output_type": "execute_result"
    }
   ],
   "source": [
    "# Fitting Random Forest Classification to the Training set\n",
    "from sklearn.ensemble import RandomForestClassifier\n",
    "classifier_rf = RandomForestClassifier(criterion = 'entropy', max_features = 4, n_estimators = 800, random_state=33)\n",
    "classifier_rf.fit(X_train_scaled, y_train.ravel())"
   ]
  },
  {
   "cell_type": "code",
   "execution_count": 48,
   "id": "b2538974",
   "metadata": {},
   "outputs": [
    {
     "name": "stdout",
     "output_type": "stream",
     "text": [
      "CV:  0.9140194389763779\n",
      "Training set:  1.0\n",
      "Test set:  0.9125\n"
     ]
    }
   ],
   "source": [
    "# Predicting Cross Validation Score\n",
    "cv_rf = cross_val_score(estimator = classifier_rf, X = X_train_scaled, y = y_train.ravel(), cv = 10)\n",
    "print(\"CV: \", cv_rf.mean())\n",
    "\n",
    "y_pred_rf_train = classifier_rf.predict(X_train_scaled)\n",
    "accuracy_rf_train = accuracy_score(y_train, y_pred_rf_train)\n",
    "print(\"Training set: \", accuracy_rf_train)\n",
    "\n",
    "y_pred_rf_test = classifier_rf.predict(X_test_scaled)\n",
    "accuracy_rf_test = accuracy_score(y_test, y_pred_rf_test)\n",
    "print(\"Test set: \", accuracy_rf_test)"
   ]
  },
  {
   "cell_type": "code",
   "execution_count": 52,
   "id": "59582c45",
   "metadata": {},
   "outputs": [
    {
     "data": {
      "text/plain": [
       "array([[267,   6],\n",
       "       [ 22,  25]], dtype=int64)"
      ]
     },
     "execution_count": 52,
     "metadata": {},
     "output_type": "execute_result"
    }
   ],
   "source": [
    "confusion_matrix(y_test, y_pred_rf_test)"
   ]
  },
  {
   "cell_type": "code",
   "execution_count": 54,
   "id": "d19d4fdd",
   "metadata": {},
   "outputs": [
    {
     "data": {
      "text/plain": [
       "<AxesSubplot:>"
      ]
     },
     "execution_count": 54,
     "metadata": {},
     "output_type": "execute_result"
    },
    {
     "data": {
      "image/png": "[encoded data removed]",
      "text/plain": [
       "<Figure size 720x576 with 2 Axes>"
      ]
     },
     "metadata": {},
     "output_type": "display_data"
    }
   ],
   "source": [
    "from sklearn.metrics import confusion_matrix\n",
    "mat_7 = confusion_matrix(y_test, y_pred_rf_test)\n",
    "plt.figure(figsize=(10, 8))\n",
    "sns.heatmap(mat_7, annot=True)"
   ]
  },
  {
   "cell_type": "code",
   "execution_count": 55,
   "id": "5cd18017",
   "metadata": {},
   "outputs": [],
   "source": [
    "tp_rf = confusion_matrix(y_test, y_pred_rf_test)[0,0]\n",
    "fp_rf = confusion_matrix(y_test, y_pred_rf_test)[0,1]\n",
    "tn_rf = confusion_matrix(y_test, y_pred_rf_test)[1,1]\n",
    "fn_rf = confusion_matrix(y_test, y_pred_rf_test)[1,0]"
   ]
  },
  {
   "cell_type": "markdown",
   "id": "92f698c8",
   "metadata": {},
   "source": [
    "# 4 Measuring the Error"
   ]
  },
  {
   "cell_type": "code",
   "execution_count": 56,
   "id": "3e1f2e9f",
   "metadata": {},
   "outputs": [],
   "source": [
    "models = [('Logistic Regression', tp_lr, fp_lr, tn_lr, fn_lr, accuracy_lr_train, accuracy_lr_test, cv_lr.mean()),\n",
    "          ('K-Nearest Neighbors (KNN)', tp_knn, fp_knn, tn_knn, fn_knn, accuracy_knn_train, accuracy_knn_test, cv_knn.mean()),\n",
    "          ('SVM (Linear)', tp_svm_linear, fp_svm_linear, tn_svm_linear, fn_svm_linear, accuracy_svm_linear_train, accuracy_svm_linear_test, cv_svm_linear.mean()),\n",
    "          ('SVM (Kernel)', tp_svm_kernel, fp_svm_kernel, tn_svm_kernel, fn_svm_kernel, accuracy_svm_kernel_train, accuracy_svm_kernel_test, cv_svm_kernel.mean()),\n",
    "          ('Naive Bayes', tp_nb, fp_nb, tn_nb, fn_nb, accuracy_nb_train, accuracy_nb_test, cv_nb.mean()),\n",
    "          ('Decision Tree Classification', tp_dt, fp_dt, tn_dt, fn_dt, accuracy_dt_train, accuracy_dt_test, cv_dt.mean()),\n",
    "          ('Random Forest Tree Classification', tp_rf, fp_rf, tn_rf, fn_rf, accuracy_rf_train, accuracy_rf_test, cv_rf.mean())\n",
    "         ]"
   ]
  },
  {
   "cell_type": "code",
   "execution_count": 57,
   "id": "10a7d7ac",
   "metadata": {},
   "outputs": [
    {
     "data": {
      "text/html": [
       "<div>\n",
       "<style scoped>\n",
       "    .dataframe tbody tr th:only-of-type {\n",
       "        vertical-align: middle;\n",
       "    }\n",
       "\n",
       "    .dataframe tbody tr th {\n",
       "        vertical-align: top;\n",
       "    }\n",
       "\n",
       "    .dataframe thead th {\n",
       "        text-align: right;\n",
       "    }\n",
       "</style>\n",
       "<table border=\"1\" class=\"dataframe\">\n",
       "  <thead>\n",
       "    <tr style=\"text-align: right;\">\n",
       "      <th></th>\n",
       "      <th>Model</th>\n",
       "      <th>True Positive</th>\n",
       "      <th>False Positive</th>\n",
       "      <th>True Negative</th>\n",
       "      <th>False Negative</th>\n",
       "      <th>Accuracy(training)</th>\n",
       "      <th>Accuracy(test)</th>\n",
       "      <th>Cross-Validation</th>\n",
       "    </tr>\n",
       "  </thead>\n",
       "  <tbody>\n",
       "    <tr>\n",
       "      <th>0</th>\n",
       "      <td>Logistic Regression</td>\n",
       "      <td>264</td>\n",
       "      <td>9</td>\n",
       "      <td>13</td>\n",
       "      <td>34</td>\n",
       "      <td>0.885848</td>\n",
       "      <td>0.865625</td>\n",
       "      <td>0.885858</td>\n",
       "    </tr>\n",
       "    <tr>\n",
       "      <th>1</th>\n",
       "      <td>K-Nearest Neighbors (KNN)</td>\n",
       "      <td>264</td>\n",
       "      <td>9</td>\n",
       "      <td>22</td>\n",
       "      <td>25</td>\n",
       "      <td>1.000000</td>\n",
       "      <td>0.893750</td>\n",
       "      <td>0.902270</td>\n",
       "    </tr>\n",
       "    <tr>\n",
       "      <th>2</th>\n",
       "      <td>SVM (Linear)</td>\n",
       "      <td>273</td>\n",
       "      <td>0</td>\n",
       "      <td>0</td>\n",
       "      <td>47</td>\n",
       "      <td>0.867084</td>\n",
       "      <td>0.853125</td>\n",
       "      <td>0.867083</td>\n",
       "    </tr>\n",
       "    <tr>\n",
       "      <th>3</th>\n",
       "      <td>SVM (Kernel)</td>\n",
       "      <td>261</td>\n",
       "      <td>12</td>\n",
       "      <td>25</td>\n",
       "      <td>22</td>\n",
       "      <td>0.942142</td>\n",
       "      <td>0.893750</td>\n",
       "      <td>0.899926</td>\n",
       "    </tr>\n",
       "    <tr>\n",
       "      <th>4</th>\n",
       "      <td>Naive Bayes</td>\n",
       "      <td>234</td>\n",
       "      <td>39</td>\n",
       "      <td>37</td>\n",
       "      <td>10</td>\n",
       "      <td>0.838937</td>\n",
       "      <td>0.846875</td>\n",
       "      <td>0.837346</td>\n",
       "    </tr>\n",
       "    <tr>\n",
       "      <th>5</th>\n",
       "      <td>Decision Tree Classification</td>\n",
       "      <td>252</td>\n",
       "      <td>21</td>\n",
       "      <td>29</td>\n",
       "      <td>18</td>\n",
       "      <td>1.000000</td>\n",
       "      <td>0.878125</td>\n",
       "      <td>0.896001</td>\n",
       "    </tr>\n",
       "    <tr>\n",
       "      <th>6</th>\n",
       "      <td>Random Forest Tree Classification</td>\n",
       "      <td>267</td>\n",
       "      <td>6</td>\n",
       "      <td>25</td>\n",
       "      <td>22</td>\n",
       "      <td>1.000000</td>\n",
       "      <td>0.912500</td>\n",
       "      <td>0.914019</td>\n",
       "    </tr>\n",
       "  </tbody>\n",
       "</table>\n",
       "</div>"
      ],
      "text/plain": [
       "                               Model  True Positive  False Positive  \\\n",
       "0                Logistic Regression            264               9   \n",
       "1          K-Nearest Neighbors (KNN)            264               9   \n",
       "2                       SVM (Linear)            273               0   \n",
       "3                       SVM (Kernel)            261              12   \n",
       "4                        Naive Bayes            234              39   \n",
       "5       Decision Tree Classification            252              21   \n",
       "6  Random Forest Tree Classification            267               6   \n",
       "\n",
       "   True Negative  False Negative  Accuracy(training)  Accuracy(test)  \\\n",
       "0             13              34            0.885848        0.865625   \n",
       "1             22              25            1.000000        0.893750   \n",
       "2              0              47            0.867084        0.853125   \n",
       "3             25              22            0.942142        0.893750   \n",
       "4             37              10            0.838937        0.846875   \n",
       "5             29              18            1.000000        0.878125   \n",
       "6             25              22            1.000000        0.912500   \n",
       "\n",
       "   Cross-Validation  \n",
       "0          0.885858  \n",
       "1          0.902270  \n",
       "2          0.867083  \n",
       "3          0.899926  \n",
       "4          0.837346  \n",
       "5          0.896001  \n",
       "6          0.914019  "
      ]
     },
     "execution_count": 57,
     "metadata": {},
     "output_type": "execute_result"
    }
   ],
   "source": [
    "predict = pd.DataFrame(data = models, columns=['Model', 'True Positive', 'False Positive', 'True Negative',\n",
    "                                               'False Negative', 'Accuracy(training)', 'Accuracy(test)',\n",
    "                                               'Cross-Validation'])\n",
    "predict"
   ]
  },
  {
   "cell_type": "markdown",
   "id": "938e4116",
   "metadata": {},
   "source": [
    "# 5 Visualizing model performance"
   ]
  },
  {
   "cell_type": "code",
   "execution_count": 58,
   "id": "4996a5f7",
   "metadata": {},
   "outputs": [
    {
     "data": {
      "image/png": "[encoded data removed]",
      "text/plain": [
       "<Figure size 1296x432 with 1 Axes>"
      ]
     },
     "metadata": {},
     "output_type": "display_data"
    }
   ],
   "source": [
    "f, axe = plt.subplots(1,1, figsize=(18,6))\n",
    "\n",
    "predict.sort_values(by=['Cross-Validation'], ascending=False, inplace=True)\n",
    "\n",
    "sns.barplot(x='Cross-Validation', y='Model', data = predict, ax = axe)\n",
    "#axes[0].set(xlabel='Region', ylabel='Charges')\n",
    "axe.set_xlabel('Cross-Validaton Score', size=16)\n",
    "axe.set_ylabel('Model')\n",
    "axe.set_xlim(0,1.0)\n",
    "axe.set_xticks(np.arange(0, 1.1, 0.1))\n",
    "plt.show()"
   ]
  },
  {
   "cell_type": "code",
   "execution_count": 59,
   "id": "33200335",
   "metadata": {},
   "outputs": [
    {
     "data": {
      "image/png": "[encoded data removed]",
      "text/plain": [
       "<Figure size 1008x720 with 2 Axes>"
      ]
     },
     "metadata": {},
     "output_type": "display_data"
    }
   ],
   "source": [
    "f, axes = plt.subplots(2,1, figsize=(14,10))\n",
    "\n",
    "predict.sort_values(by=['Accuracy(training)'], ascending=False, inplace=True)\n",
    "\n",
    "sns.barplot(x='Accuracy(training)', y='Model', data = predict, palette='Blues_d', ax = axes[0])\n",
    "#axes[0].set(xlabel='Region', ylabel='Charges')\n",
    "axes[0].set_xlabel('Accuracy (Training)', size=16)\n",
    "axes[0].set_ylabel('Model')\n",
    "axes[0].set_xlim(0,1.0)\n",
    "axes[0].set_xticks(np.arange(0, 1.1, 0.1))\n",
    "\n",
    "predict.sort_values(by=['Accuracy(test)'], ascending=False, inplace=True)\n",
    "\n",
    "\n",
    "sns.barplot(x='Accuracy(test)', y='Model', data = predict, palette='Reds_d', ax = axes[1])\n",
    "#axes[0].set(xlabel='Region', ylabel='Charges')\n",
    "axes[1].set_xlabel('Accuracy (Test)', size=16)\n",
    "axes[1].set_ylabel('Model')\n",
    "axes[1].set_xlim(0,1.0)\n",
    "axes[1].set_xticks(np.arange(0, 1.1, 0.1))\n",
    "\n",
    "plt.show()"
   ]
  },
  {
   "cell_type": "code",
   "execution_count": 60,
   "id": "c15247c5",
   "metadata": {},
   "outputs": [
    {
     "data": {
      "image/png": "[encoded data removed]",
      "text/plain": [
       "<Figure size 1728x576 with 1 Axes>"
      ]
     },
     "metadata": {},
     "output_type": "display_data"
    }
   ],
   "source": [
    "predict.sort_values(by=(['Accuracy(test)']), ascending=True, inplace=True)\n",
    "\n",
    "f, axe = plt.subplots(1,1, figsize=(24,8))\n",
    "sns.barplot(x = predict['Model'], y=predict['False Positive'] + predict['False Negative'], ax = axe)\n",
    "axe.set_xlabel('Model', size=20)\n",
    "axe.set_ylabel('False Observations', size=20)\n",
    "\n",
    "plt.show()"
   ]
  },
  {
   "cell_type": "markdown",
   "id": "9e700824",
   "metadata": {},
   "source": [
    "# 6 Conclusion"
   ]
  },
  {
   "cell_type": "markdown",
   "id": "4c2151dd",
   "metadata": {},
   "source": [
    "## In this kernel, I have built 7 different classification and checked their performance.\n",
    "## According to this chart, it is clearly visible that random forest classification is giving more accurate results."
   ]
  },
  {
   "cell_type": "code",
   "execution_count": null,
   "id": "11fa5cf4",
   "metadata": {},
   "outputs": [],
   "source": []
  }
 ],
 "metadata": {
  "kernelspec": {
   "display_name": "Python 3 (ipykernel)",
   "language": "python",
   "name": "python3"
  },
  "language_info": {
   "codemirror_mode": {
    "name": "ipython",
    "version": 3
   },
   "file_extension": ".py",
   "mimetype": "text/x-python",
   "name": "python",
   "nbconvert_exporter": "python",
   "pygments_lexer": "ipython3",
   "version": "3.9.12"
  }
 },
 "nbformat": 4,
 "nbformat_minor": 5
}
